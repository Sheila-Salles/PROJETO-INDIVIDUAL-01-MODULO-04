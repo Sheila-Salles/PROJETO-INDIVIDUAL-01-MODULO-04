{
 "cells": [
  {
   "attachments": {},
   "cell_type": "markdown",
   "id": "5c132fbf",
   "metadata": {},
   "source": [
    "Uma determinada loja deseja produzir relatórios semanais com ganhos e despesas. O gerente da loja te contratou para gerar um relatório de uma semana para mostrar ao dono da loja como a análise dos dados pode ser útil para eles. Para isso, ele te enviou uma tabela de exemplo das despesas de uma semana: CONTEXTO Além disso, ele informou que os ganhos não estão nessa planilha, mas que ele possui a seguinte lista: 2200, 2420.50, 3391, 5322, 4898.50, 4200, 3893 respectivos aos dias da semana. Ele te deixou bem livre para incluir no relatório as estatísticas que desejar, mas ele deseja que o relatório contenha outros dados que veremos a seguir.."
   ]
  },
  {
   "cell_type": "code",
   "execution_count": 2,
   "id": "4f46358f",
   "metadata": {},
   "outputs": [
    {
     "data": {
      "text/html": [
       "<div>\n",
       "<style scoped>\n",
       "    .dataframe tbody tr th:only-of-type {\n",
       "        vertical-align: middle;\n",
       "    }\n",
       "\n",
       "    .dataframe tbody tr th {\n",
       "        vertical-align: top;\n",
       "    }\n",
       "\n",
       "    .dataframe thead th {\n",
       "        text-align: right;\n",
       "    }\n",
       "</style>\n",
       "<table border=\"1\" class=\"dataframe\">\n",
       "  <thead>\n",
       "    <tr style=\"text-align: right;\">\n",
       "      <th></th>\n",
       "      <th>Limpeza</th>\n",
       "      <th>Comida</th>\n",
       "      <th>Transporte</th>\n",
       "      <th>Outros</th>\n",
       "    </tr>\n",
       "  </thead>\n",
       "  <tbody>\n",
       "    <tr>\n",
       "      <th>Segunda</th>\n",
       "      <td>100</td>\n",
       "      <td>221.60</td>\n",
       "      <td>150</td>\n",
       "      <td>0</td>\n",
       "    </tr>\n",
       "    <tr>\n",
       "      <th>Terça</th>\n",
       "      <td>0</td>\n",
       "      <td>375.31</td>\n",
       "      <td>100</td>\n",
       "      <td>0</td>\n",
       "    </tr>\n",
       "    <tr>\n",
       "      <th>Quarta</th>\n",
       "      <td>100</td>\n",
       "      <td>412.00</td>\n",
       "      <td>125</td>\n",
       "      <td>2310</td>\n",
       "    </tr>\n",
       "    <tr>\n",
       "      <th>Quinta</th>\n",
       "      <td>0</td>\n",
       "      <td>495.20</td>\n",
       "      <td>300</td>\n",
       "      <td>500</td>\n",
       "    </tr>\n",
       "    <tr>\n",
       "      <th>Sexta</th>\n",
       "      <td>100</td>\n",
       "      <td>411.53</td>\n",
       "      <td>275</td>\n",
       "      <td>0</td>\n",
       "    </tr>\n",
       "    <tr>\n",
       "      <th>Sabado</th>\n",
       "      <td>100</td>\n",
       "      <td>245.00</td>\n",
       "      <td>525</td>\n",
       "      <td>0</td>\n",
       "    </tr>\n",
       "    <tr>\n",
       "      <th>Domingo</th>\n",
       "      <td>0</td>\n",
       "      <td>164.00</td>\n",
       "      <td>75</td>\n",
       "      <td>820</td>\n",
       "    </tr>\n",
       "  </tbody>\n",
       "</table>\n",
       "</div>"
      ],
      "text/plain": [
       "         Limpeza  Comida  Transporte  Outros\n",
       "Segunda      100  221.60         150       0\n",
       "Terça          0  375.31         100       0\n",
       "Quarta       100  412.00         125    2310\n",
       "Quinta         0  495.20         300     500\n",
       "Sexta        100  411.53         275       0\n",
       "Sabado       100  245.00         525       0\n",
       "Domingo        0  164.00          75     820"
      ]
     },
     "execution_count": 2,
     "metadata": {},
     "output_type": "execute_result"
    }
   ],
   "source": [
    "import pandas as pd\n",
    "import numpy as np\n",
    "\n",
    "dados = {'Limpeza': [100,0,100,0,100,100,0],'Comida': [221.60,375.31,412.00,495.20,411.53,245.00,164.00],'Transporte': [150,100,125,300,275,525,75],'Outros': [0,0,2310,500,0,0,820]}\n",
    "\n",
    "df1 = pd.DataFrame(dados,index=['Segunda', 'Terça', 'Quarta', 'Quinta', 'Sexta', 'Sabado', 'Domingo'])\n",
    "\n",
    "df1"
   ]
  },
  {
   "attachments": {},
   "cell_type": "markdown",
   "id": "357f406e",
   "metadata": {},
   "source": [
    "Gerar um relatório de uma semana para mostrar ao dono da loja como a análise dos\n",
    "dados pode ser útil e incluir no relatório outros itens:\n"
   ]
  },
  {
   "cell_type": "code",
   "execution_count": 3,
   "id": "b791024f",
   "metadata": {},
   "outputs": [
    {
     "data": {
      "text/html": [
       "<div>\n",
       "<style scoped>\n",
       "    .dataframe tbody tr th:only-of-type {\n",
       "        vertical-align: middle;\n",
       "    }\n",
       "\n",
       "    .dataframe tbody tr th {\n",
       "        vertical-align: top;\n",
       "    }\n",
       "\n",
       "    .dataframe thead th {\n",
       "        text-align: right;\n",
       "    }\n",
       "</style>\n",
       "<table border=\"1\" class=\"dataframe\">\n",
       "  <thead>\n",
       "    <tr style=\"text-align: right;\">\n",
       "      <th></th>\n",
       "      <th>Limpeza</th>\n",
       "      <th>Comida</th>\n",
       "      <th>Transporte</th>\n",
       "      <th>Outros</th>\n",
       "      <th>Ganhos</th>\n",
       "    </tr>\n",
       "  </thead>\n",
       "  <tbody>\n",
       "    <tr>\n",
       "      <th>Segunda</th>\n",
       "      <td>100</td>\n",
       "      <td>221.60</td>\n",
       "      <td>150</td>\n",
       "      <td>0</td>\n",
       "      <td>2200.0</td>\n",
       "    </tr>\n",
       "    <tr>\n",
       "      <th>Terça</th>\n",
       "      <td>0</td>\n",
       "      <td>375.31</td>\n",
       "      <td>100</td>\n",
       "      <td>0</td>\n",
       "      <td>2420.5</td>\n",
       "    </tr>\n",
       "    <tr>\n",
       "      <th>Quarta</th>\n",
       "      <td>100</td>\n",
       "      <td>412.00</td>\n",
       "      <td>125</td>\n",
       "      <td>2310</td>\n",
       "      <td>3391.0</td>\n",
       "    </tr>\n",
       "    <tr>\n",
       "      <th>Quinta</th>\n",
       "      <td>0</td>\n",
       "      <td>495.20</td>\n",
       "      <td>300</td>\n",
       "      <td>500</td>\n",
       "      <td>5322.0</td>\n",
       "    </tr>\n",
       "    <tr>\n",
       "      <th>Sexta</th>\n",
       "      <td>100</td>\n",
       "      <td>411.53</td>\n",
       "      <td>275</td>\n",
       "      <td>0</td>\n",
       "      <td>4898.5</td>\n",
       "    </tr>\n",
       "    <tr>\n",
       "      <th>Sabado</th>\n",
       "      <td>100</td>\n",
       "      <td>245.00</td>\n",
       "      <td>525</td>\n",
       "      <td>0</td>\n",
       "      <td>4200.0</td>\n",
       "    </tr>\n",
       "    <tr>\n",
       "      <th>Domingo</th>\n",
       "      <td>0</td>\n",
       "      <td>164.00</td>\n",
       "      <td>75</td>\n",
       "      <td>820</td>\n",
       "      <td>3893.0</td>\n",
       "    </tr>\n",
       "  </tbody>\n",
       "</table>\n",
       "</div>"
      ],
      "text/plain": [
       "         Limpeza  Comida  Transporte  Outros  Ganhos\n",
       "Segunda      100  221.60         150       0  2200.0\n",
       "Terça          0  375.31         100       0  2420.5\n",
       "Quarta       100  412.00         125    2310  3391.0\n",
       "Quinta         0  495.20         300     500  5322.0\n",
       "Sexta        100  411.53         275       0  4898.5\n",
       "Sabado       100  245.00         525       0  4200.0\n",
       "Domingo        0  164.00          75     820  3893.0"
      ]
     },
     "execution_count": 3,
     "metadata": {},
     "output_type": "execute_result"
    }
   ],
   "source": [
    "import pandas as pd\n",
    "import numpy as np\n",
    "\n",
    "dados = {'Limpeza': [100,0,100,0,100,100,0],'Comida': [221.60,375.31,412.00,495.20,411.53,245.00,164.00],'Transporte': [150,100,125,300,275,525,75],'Outros': [0,0,2310,500,0,0,820]}\n",
    "\n",
    "df1 = pd.DataFrame(dados,index=['Segunda', 'Terça', 'Quarta', 'Quinta', 'Sexta', 'Sabado', 'Domingo'])\n",
    "\n",
    "df1['Ganhos'] = np.NaN\n",
    "df1['Ganhos'] = [2200, 2420.50, 3391, 5322, 4898.50, 4200, 3893]\n",
    "df1"
   ]
  },
  {
   "attachments": {},
   "cell_type": "markdown",
   "id": "e7fda3c7",
   "metadata": {},
   "source": [
    " A subtração de impostos dos ganhos diários, que nesta semana foi de 7%;"
   ]
  },
  {
   "cell_type": "code",
   "execution_count": 4,
   "id": "62895bdc",
   "metadata": {},
   "outputs": [
    {
     "data": {
      "text/html": [
       "<div>\n",
       "<style scoped>\n",
       "    .dataframe tbody tr th:only-of-type {\n",
       "        vertical-align: middle;\n",
       "    }\n",
       "\n",
       "    .dataframe tbody tr th {\n",
       "        vertical-align: top;\n",
       "    }\n",
       "\n",
       "    .dataframe thead th {\n",
       "        text-align: right;\n",
       "    }\n",
       "</style>\n",
       "<table border=\"1\" class=\"dataframe\">\n",
       "  <thead>\n",
       "    <tr style=\"text-align: right;\">\n",
       "      <th></th>\n",
       "      <th>Limpeza</th>\n",
       "      <th>Comida</th>\n",
       "      <th>Transporte</th>\n",
       "      <th>Outros</th>\n",
       "      <th>Ganhos</th>\n",
       "      <th>impostos</th>\n",
       "      <th>subtração</th>\n",
       "    </tr>\n",
       "  </thead>\n",
       "  <tbody>\n",
       "    <tr>\n",
       "      <th>Segunda</th>\n",
       "      <td>100</td>\n",
       "      <td>221.60</td>\n",
       "      <td>150</td>\n",
       "      <td>0</td>\n",
       "      <td>2200.0</td>\n",
       "      <td>154.000</td>\n",
       "      <td>2046.000</td>\n",
       "    </tr>\n",
       "    <tr>\n",
       "      <th>Terça</th>\n",
       "      <td>0</td>\n",
       "      <td>375.31</td>\n",
       "      <td>100</td>\n",
       "      <td>0</td>\n",
       "      <td>2420.5</td>\n",
       "      <td>169.435</td>\n",
       "      <td>2251.065</td>\n",
       "    </tr>\n",
       "    <tr>\n",
       "      <th>Quarta</th>\n",
       "      <td>100</td>\n",
       "      <td>412.00</td>\n",
       "      <td>125</td>\n",
       "      <td>2310</td>\n",
       "      <td>3391.0</td>\n",
       "      <td>237.370</td>\n",
       "      <td>3153.630</td>\n",
       "    </tr>\n",
       "    <tr>\n",
       "      <th>Quinta</th>\n",
       "      <td>0</td>\n",
       "      <td>495.20</td>\n",
       "      <td>300</td>\n",
       "      <td>500</td>\n",
       "      <td>5322.0</td>\n",
       "      <td>372.540</td>\n",
       "      <td>4949.460</td>\n",
       "    </tr>\n",
       "    <tr>\n",
       "      <th>Sexta</th>\n",
       "      <td>100</td>\n",
       "      <td>411.53</td>\n",
       "      <td>275</td>\n",
       "      <td>0</td>\n",
       "      <td>4898.5</td>\n",
       "      <td>342.895</td>\n",
       "      <td>4555.605</td>\n",
       "    </tr>\n",
       "    <tr>\n",
       "      <th>Sabado</th>\n",
       "      <td>100</td>\n",
       "      <td>245.00</td>\n",
       "      <td>525</td>\n",
       "      <td>0</td>\n",
       "      <td>4200.0</td>\n",
       "      <td>294.000</td>\n",
       "      <td>3906.000</td>\n",
       "    </tr>\n",
       "    <tr>\n",
       "      <th>Domingo</th>\n",
       "      <td>0</td>\n",
       "      <td>164.00</td>\n",
       "      <td>75</td>\n",
       "      <td>820</td>\n",
       "      <td>3893.0</td>\n",
       "      <td>272.510</td>\n",
       "      <td>3620.490</td>\n",
       "    </tr>\n",
       "  </tbody>\n",
       "</table>\n",
       "</div>"
      ],
      "text/plain": [
       "         Limpeza  Comida  Transporte  Outros  Ganhos  impostos  subtração\n",
       "Segunda      100  221.60         150       0  2200.0   154.000   2046.000\n",
       "Terça          0  375.31         100       0  2420.5   169.435   2251.065\n",
       "Quarta       100  412.00         125    2310  3391.0   237.370   3153.630\n",
       "Quinta         0  495.20         300     500  5322.0   372.540   4949.460\n",
       "Sexta        100  411.53         275       0  4898.5   342.895   4555.605\n",
       "Sabado       100  245.00         525       0  4200.0   294.000   3906.000\n",
       "Domingo        0  164.00          75     820  3893.0   272.510   3620.490"
      ]
     },
     "execution_count": 4,
     "metadata": {},
     "output_type": "execute_result"
    }
   ],
   "source": [
    "import pandas as pd\n",
    "import numpy as np\n",
    "\n",
    "dados = {'Limpeza': [100,0,100,0,100,100,0],'Comida': [221.60,375.31,412.00,495.20,411.53,245.00,164.00],'Transporte': [150,100,125,300,275,525,75],'Outros': [0,0,2310,500,0,0,820]}\n",
    "\n",
    "df1 = pd.DataFrame(dados,index=['Segunda', 'Terça', 'Quarta', 'Quinta', 'Sexta', 'Sabado', 'Domingo'])\n",
    "\n",
    "df1['Ganhos'] = np.NaN\n",
    "df1['Ganhos'] = [2200, 2420.50, 3391, 5322, 4898.50, 4200, 3893]\n",
    "\n",
    "df1['impostos'] = df1['Ganhos'] * 0.07 \n",
    "\n",
    "df1\n",
    "\n",
    "df1['subtração'] = df1['Ganhos'] - df1['impostos']\n",
    "\n",
    "df1"
   ]
  },
  {
   "attachments": {},
   "cell_type": "markdown",
   "id": "6827aa0a",
   "metadata": {},
   "source": [
    " A soma total dos ganhos;"
   ]
  },
  {
   "cell_type": "code",
   "execution_count": 5,
   "id": "577e0a0c",
   "metadata": {},
   "outputs": [
    {
     "data": {
      "text/plain": [
       "26325.0"
      ]
     },
     "execution_count": 5,
     "metadata": {},
     "output_type": "execute_result"
    }
   ],
   "source": [
    "import pandas as pd\n",
    "import numpy as np\n",
    "\n",
    "dados = {'Limpeza': [100,0,100,0,100,100,0],'Comida': [221.60,375.31,412.00,495.20,411.53,245.00,164.00],'Transporte': [150,100,125,300,275,525,75],'Outros': [0,0,2310,500,0,0,820]}\n",
    "\n",
    "df1 = pd.DataFrame(dados,index=['Segunda', 'Terça', 'Quarta', 'Quinta', 'Sexta', 'Sabado', 'Domingo'])\n",
    "\n",
    "df1['Ganhos'] = np.NaN\n",
    "df1['Ganhos'] = [2200, 2420.50, 3391, 5322, 4898.50, 4200, 3893]\n",
    "\n",
    "df1['Ganhos'].sum()"
   ]
  },
  {
   "attachments": {},
   "cell_type": "markdown",
   "id": "f26b6bf4",
   "metadata": {},
   "source": [
    "\n",
    "A média semanal dos ganhos;\n"
   ]
  },
  {
   "cell_type": "code",
   "execution_count": 6,
   "id": "e46c7a3e",
   "metadata": {},
   "outputs": [
    {
     "data": {
      "text/plain": [
       "3760.714285714286"
      ]
     },
     "execution_count": 6,
     "metadata": {},
     "output_type": "execute_result"
    }
   ],
   "source": [
    "import pandas as pd\n",
    "\n",
    "dados = {'Limpeza': [100,0,100,0,100,100,0],'Comida': [221.60,375.31,412.00,495.20,411.53,245.00,164.00],'Transporte': [150,100,125,300,275,525,75],'Outros': [0,0,2310,500,0,0,820]}\n",
    "\n",
    "df1 = pd.DataFrame(dados,index=['Segunda', 'Terça', 'Quarta', 'Quinta', 'Sexta', 'Sabado', 'Domingo'])\n",
    "\n",
    "df1['Ganhos'] = np.NaN\n",
    "df1['Ganhos'] = [2200, 2420.50, 3391, 5322, 4898.50, 4200, 3893]\n",
    "\n",
    "df1['Ganhos'].mean()"
   ]
  },
  {
   "attachments": {},
   "cell_type": "markdown",
   "id": "bdf6e0ea",
   "metadata": {},
   "source": [
    "A soma total das despesas por categoria;"
   ]
  },
  {
   "cell_type": "code",
   "execution_count": 7,
   "id": "2f1b676a",
   "metadata": {},
   "outputs": [
    {
     "data": {
      "text/plain": [
       "Limpeza         400.00\n",
       "Comida         2324.64\n",
       "Transporte     1550.00\n",
       "Outros         3630.00\n",
       "Ganhos        26325.00\n",
       "dtype: float64"
      ]
     },
     "execution_count": 7,
     "metadata": {},
     "output_type": "execute_result"
    }
   ],
   "source": [
    "import pandas as pd\n",
    "\n",
    "dados = {'Limpeza': [100,0,100,0,100,100,0],'Comida': [221.60,375.31,412.00,495.20,411.53,245.00,164.00],'Transporte': [150,100,125,300,275,525,75],'Outros': [0,0,2310,500,0,0,820]}\n",
    "\n",
    "df1 = pd.DataFrame(dados,index=['Segunda', 'Terça', 'Quarta', 'Quinta', 'Sexta', 'Sabado', 'Domingo'])\n",
    "\n",
    "df1['Ganhos'] = [2200, 2420.50, 3391, 5322, 4898.50, 4200, 3893]\n",
    "\n",
    "df1.sum()"
   ]
  },
  {
   "attachments": {},
   "cell_type": "markdown",
   "id": "f41ef0b4",
   "metadata": {},
   "source": [
    "\n",
    "■ A média semanal de todas as despesas;\n"
   ]
  },
  {
   "cell_type": "code",
   "execution_count": 8,
   "id": "6c04c916",
   "metadata": {},
   "outputs": [
    {
     "data": {
      "text/plain": [
       "Limpeza         57.142857\n",
       "Comida         332.091429\n",
       "Transporte     221.428571\n",
       "Outros         518.571429\n",
       "Ganhos        3760.714286\n",
       "dtype: float64"
      ]
     },
     "execution_count": 8,
     "metadata": {},
     "output_type": "execute_result"
    }
   ],
   "source": [
    "import pandas as pd\n",
    "\n",
    "dados = {'Limpeza': [100,0,100,0,100,100,0],'Comida': [221.60,375.31,412.00,495.20,411.53,245.00,164.00],'Transporte': [150,100,125,300,275,525,75],'Outros': [0,0,2310,500,0,0,820]}\n",
    "\n",
    "df1 = pd.DataFrame(dados,index=['Segunda', 'Terça', 'Quarta', 'Quinta', 'Sexta', 'Sabado', 'Domingo'])\n",
    "\n",
    "df1['Ganhos'] = [2200, 2420.50, 3391, 5322, 4898.50, 4200, 3893]\n",
    "\n",
    "df1.mean()"
   ]
  },
  {
   "attachments": {},
   "cell_type": "markdown",
   "id": "220a872c",
   "metadata": {},
   "source": [
    "O lucro diário para informar qual dia foi mais lucrativo e o lucro total da semana;"
   ]
  },
  {
   "cell_type": "code",
   "execution_count": 9,
   "id": "3149eac5",
   "metadata": {},
   "outputs": [
    {
     "data": {
      "text/html": [
       "<div>\n",
       "<style scoped>\n",
       "    .dataframe tbody tr th:only-of-type {\n",
       "        vertical-align: middle;\n",
       "    }\n",
       "\n",
       "    .dataframe tbody tr th {\n",
       "        vertical-align: top;\n",
       "    }\n",
       "\n",
       "    .dataframe thead th {\n",
       "        text-align: right;\n",
       "    }\n",
       "</style>\n",
       "<table border=\"1\" class=\"dataframe\">\n",
       "  <thead>\n",
       "    <tr style=\"text-align: right;\">\n",
       "      <th></th>\n",
       "      <th>Limpeza</th>\n",
       "      <th>Comida</th>\n",
       "      <th>Transporte</th>\n",
       "      <th>Outros</th>\n",
       "      <th>Ganhos</th>\n",
       "    </tr>\n",
       "  </thead>\n",
       "  <tbody>\n",
       "    <tr>\n",
       "      <th>Segunda</th>\n",
       "      <td>100</td>\n",
       "      <td>221.60</td>\n",
       "      <td>150</td>\n",
       "      <td>0</td>\n",
       "      <td>2200.0</td>\n",
       "    </tr>\n",
       "    <tr>\n",
       "      <th>Terça</th>\n",
       "      <td>0</td>\n",
       "      <td>375.31</td>\n",
       "      <td>100</td>\n",
       "      <td>0</td>\n",
       "      <td>2420.5</td>\n",
       "    </tr>\n",
       "    <tr>\n",
       "      <th>Quarta</th>\n",
       "      <td>100</td>\n",
       "      <td>412.00</td>\n",
       "      <td>125</td>\n",
       "      <td>2310</td>\n",
       "      <td>3391.0</td>\n",
       "    </tr>\n",
       "    <tr>\n",
       "      <th>Domingo</th>\n",
       "      <td>0</td>\n",
       "      <td>164.00</td>\n",
       "      <td>75</td>\n",
       "      <td>820</td>\n",
       "      <td>3893.0</td>\n",
       "    </tr>\n",
       "    <tr>\n",
       "      <th>Sabado</th>\n",
       "      <td>100</td>\n",
       "      <td>245.00</td>\n",
       "      <td>525</td>\n",
       "      <td>0</td>\n",
       "      <td>4200.0</td>\n",
       "    </tr>\n",
       "    <tr>\n",
       "      <th>Sexta</th>\n",
       "      <td>100</td>\n",
       "      <td>411.53</td>\n",
       "      <td>275</td>\n",
       "      <td>0</td>\n",
       "      <td>4898.5</td>\n",
       "    </tr>\n",
       "    <tr>\n",
       "      <th>Quinta</th>\n",
       "      <td>0</td>\n",
       "      <td>495.20</td>\n",
       "      <td>300</td>\n",
       "      <td>500</td>\n",
       "      <td>5322.0</td>\n",
       "    </tr>\n",
       "  </tbody>\n",
       "</table>\n",
       "</div>"
      ],
      "text/plain": [
       "         Limpeza  Comida  Transporte  Outros  Ganhos\n",
       "Segunda      100  221.60         150       0  2200.0\n",
       "Terça          0  375.31         100       0  2420.5\n",
       "Quarta       100  412.00         125    2310  3391.0\n",
       "Domingo        0  164.00          75     820  3893.0\n",
       "Sabado       100  245.00         525       0  4200.0\n",
       "Sexta        100  411.53         275       0  4898.5\n",
       "Quinta         0  495.20         300     500  5322.0"
      ]
     },
     "execution_count": 9,
     "metadata": {},
     "output_type": "execute_result"
    }
   ],
   "source": [
    "import pandas as pd\n",
    "\n",
    "dados = {'Limpeza': [100,0,100,0,100,100,0],'Comida': [221.60,375.31,412.00,495.20,411.53,245.00,164.00],'Transporte': [150,100,125,300,275,525,75],'Outros': [0,0,2310,500,0,0,820]}\n",
    "\n",
    "df1 = pd.DataFrame(dados,index=['Segunda', 'Terça', 'Quarta', 'Quinta', 'Sexta', 'Sabado', 'Domingo'])\n",
    "\n",
    "df1['Ganhos'] = np.NaN\n",
    "df1['Ganhos'] = [2200, 2420.50, 3391, 5322, 4898.50, 4200, 3893]\n",
    "\n",
    "\n",
    "df1.sort_values(by='Ganhos')\n"
   ]
  }
 ],
 "metadata": {
  "kernelspec": {
   "display_name": "Python 3 (ipykernel)",
   "language": "python",
   "name": "python3"
  },
  "language_info": {
   "codemirror_mode": {
    "name": "ipython",
    "version": 3
   },
   "file_extension": ".py",
   "mimetype": "text/x-python",
   "name": "python",
   "nbconvert_exporter": "python",
   "pygments_lexer": "ipython3",
   "version": "3.11.3"
  }
 },
 "nbformat": 4,
 "nbformat_minor": 5
}
